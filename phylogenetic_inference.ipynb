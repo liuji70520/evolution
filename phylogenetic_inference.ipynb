{
 "cells": [
  {
   "cell_type": "markdown",
   "metadata": {},
   "source": [
    "# 系统发育推断"
   ]
  },
  {
   "cell_type": "markdown",
   "metadata": {},
   "source": [
    "## 准备工作,给每个基因文件的标识符信息添加对应的物种名信息"
   ]
  },
  {
   "cell_type": "code",
   "execution_count": 5,
   "metadata": {},
   "outputs": [
    {
     "name": "stdout",
     "output_type": "stream",
     "text": [
      "/home/liuji/project/evolution-tutorials\n"
     ]
    }
   ],
   "source": [
    "! pwd\n",
    "#调用脚本，内有注释，完成标识信息的添加\n",
    "! bash ./src/modified_ID.sh raw_data/ modified_data/ fna"
   ]
  },
  {
   "cell_type": "markdown",
   "metadata": {},
   "source": [
    "## 1、选取合适的分子标记进行多重比对，本教程以直系同源单拷贝基因为例"
   ]
  },
  {
   "cell_type": "code",
   "execution_count": 18,
   "metadata": {},
   "outputs": [],
   "source": [
    "#根据基因名合并物种序列,准备构建基因树\n",
    "! pwd\n",
    "! python3 src/gene_split.py ./modified_data ./result/gene_fna fna\n"
   ]
  },
  {
   "cell_type": "code",
   "execution_count": null,
   "metadata": {},
   "outputs": [],
   "source": [
    "# 使用mafft完成比对\n",
    "! ls result/gene_fna/ | while read file;do mafft --thread 8 --adjustdirection --auto result/gene_fna/${file} > result/phylo_fna_gene/${file%.fna}_aln.fna;done"
   ]
  },
  {
   "cell_type": "code",
   "execution_count": null,
   "metadata": {},
   "outputs": [],
   "source": [
    "#使用trimal完成修剪，去除gap\n",
    "! ls result/phylo_fna_gene/ | while read file; do trimal -in result/phylo_fna_gene/${file} -out result/phylo_fna_gene/${file%_aln.fna}_AlnTrimed.fna --gappyout;done\n",
    "! trimal-in result/sco_aln.fna -out result/sco_AlnTrimed.fna -gappyout"
   ]
  },
  {
   "cell_type": "code",
   "execution_count": 17,
   "metadata": {},
   "outputs": [
    {
     "name": "stdout",
     "output_type": "stream",
     "text": [
      "\n",
      "ERROR: Parameter \"--keep-header\" not valid.\n",
      "\n"
     ]
    }
   ],
   "source": []
  },
  {
   "cell_type": "code",
   "execution_count": 16,
   "metadata": {},
   "outputs": [
    {
     "name": "stdout",
     "output_type": "stream",
     "text": [
      "IQ-TREE multicore version 2.3.4 COVID-edition for Linux x86 64-bit built Jun 18 2024\n",
      "Developed by Bui Quang Minh, James Barbetti, Nguyen Lam Tung, Olga Chernomor,\n",
      "Heiko Schmidt, Dominik Schrempf, Michael Woodhams, Ly Trong Nhan, Thomas Wong\n",
      "\n",
      "Host:    RCNSZOR36402A (AVX512, FMA3, 7 GB RAM)\n",
      "Command: iqtree -s result/sco_AlnTrimed.fna -nt 8 -m MFP -bb 1000 -alrt 1000 -pre result/phylo_result/sco_iqtreeout\n",
      "Seed:    396030 (Using SPRNG - Scalable Parallel Random Number Generator)\n",
      "Time:    Fri Aug 30 16:00:47 2024\n",
      "Kernel:  AVX+FMA - 8 threads (8 CPU cores detected)\n",
      "\n",
      "Reading alignment file result/sco_AlnTrimed.fna ... Fasta format detected\n",
      "Reading fasta file: done in 0.000363136 secs using 59.76% CPU\n",
      "Alignment most likely contains DNA/RNA sequences\n",
      "Alignment has 36 sequences with 614 columns, 613 distinct patterns\n",
      "601 parsimony-informative, 11 singleton sites, 2 constant sites\n",
      "ERROR: Duplicated sequence name Armigeres_subalbatus_CM068471.1\n",
      "ERROR: Duplicated sequence name Armigeres_subalbatus_CM068472.1\n",
      "ERROR: Duplicated sequence name Armigeres_subalbatus_CM068472.1\n",
      "ERROR: Duplicated sequence name Armigeres_subalbatus_CM068473.1\n",
      "ERROR: Duplicated sequence name Armigeres_subalbatus_CM068473.1\n",
      "ERROR: Duplicated sequence name Armigeres_subalbatus_CM068473.1\n",
      "ERROR: Duplicated sequence name Culex_pipiens_OZ004311.1\n",
      "ERROR: Duplicated sequence name Culex_pipiens_OZ004312.1\n",
      "ERROR: Duplicated sequence name Culex_pipiens_OZ004312.1\n",
      "ERROR: Duplicated sequence name Culex_pipiens_OZ004313.1\n",
      "ERROR: Duplicated sequence name Culex_pipiens_OZ004313.1\n",
      "ERROR: Duplicated sequence name Culex_pipiens_OZ004313.1\n",
      "ERROR: Duplicated sequence name Culex_pipiens_molestus_CM044968.1\n",
      "ERROR: Duplicated sequence name Culex_pipiens_molestus_CM044969.1\n",
      "ERROR: Duplicated sequence name Culex_pipiens_molestus_CM044969.1\n",
      "ERROR: Duplicated sequence name Culex_pipiens_molestus_CM044970.1\n",
      "ERROR: Duplicated sequence name Culex_pipiens_molestus_CM044970.1\n",
      "ERROR: Duplicated sequence name Culex_pipiens_molestus_CM044970.1\n",
      "ERROR: Duplicated sequence name Culex_pipiens_pallens_CM044971.1\n",
      "ERROR: Duplicated sequence name Culex_pipiens_pallens_CM044972.1\n",
      "ERROR: Duplicated sequence name Culex_pipiens_pallens_CM044972.1\n",
      "ERROR: Duplicated sequence name Culex_pipiens_pallens_CM044973.1\n",
      "ERROR: Duplicated sequence name Culex_pipiens_pallens_CM044973.1\n",
      "ERROR: Duplicated sequence name Culex_pipiens_pallens_CM044973.1\n",
      "ERROR: Please rename sequences listed above!\n"
     ]
    }
   ],
   "source": [
    "#使用iqtree完成，如果数据量过大，可以使用fasttree快速构建一个树文件，暂时代替\n",
    "! mkdir -p result/phylo_result\n",
    "! iqtree -s result/sco_AlnTrimed.fna -nt 8 -m MFP -bb 1000 -alrt 1000 -pre result/phylo_result/sco_iqtreeout\n"
   ]
  },
  {
   "cell_type": "code",
   "execution_count": null,
   "metadata": {},
   "outputs": [],
   "source": []
  }
 ],
 "metadata": {
  "kernelspec": {
   "display_name": "base",
   "language": "python",
   "name": "python3"
  },
  "language_info": {
   "codemirror_mode": {
    "name": "ipython",
    "version": 3
   },
   "file_extension": ".py",
   "mimetype": "text/x-python",
   "name": "python",
   "nbconvert_exporter": "python",
   "pygments_lexer": "ipython3",
   "version": "3.12.2"
  }
 },
 "nbformat": 4,
 "nbformat_minor": 2
}
